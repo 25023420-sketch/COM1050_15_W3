{
 "cells": [
  {
   "cell_type": "code",
   "execution_count": 2,
   "id": "f3cfaec9-3e2b-4517-80f2-5e05244ae6dc",
   "metadata": {},
   "outputs": [
    {
     "name": "stdin",
     "output_type": "stream",
     "text": [
      " 1 2\n"
     ]
    },
    {
     "name": "stdout",
     "output_type": "stream",
     "text": [
      "2 1\n"
     ]
    }
   ],
   "source": [
    "#W3A2\n",
    "a, b = map(int, input().split())\n",
    "a = a^b\n",
    "b = a^b\n",
    "a = a^b\n",
    "print(a, b)"
   ]
  },
  {
   "cell_type": "code",
   "execution_count": 21,
   "id": "840f7a8d-aa00-4f97-a488-ad87b64400b9",
   "metadata": {},
   "outputs": [
    {
     "name": "stdin",
     "output_type": "stream",
     "text": [
      " 6\n"
     ]
    },
    {
     "name": "stdout",
     "output_type": "stream",
     "text": [
      "Đây không phải là lũy thừa của 2\n"
     ]
    }
   ],
   "source": [
    "#W3A3\n",
    "n = int(input())\n",
    "if n & (n-1) == 0:\n",
    " print(\"Đây là lũy thừa của 2\")\n",
    "else:\n",
    " print(\"Đây không phải là lũy thừa của 2\")"
   ]
  },
  {
   "cell_type": "code",
   "execution_count": 8,
   "id": "c40ecbbc-cedd-441e-a910-930c6dedeeb3",
   "metadata": {},
   "outputs": [
    {
     "name": "stdin",
     "output_type": "stream",
     "text": [
      " 8 3\n"
     ]
    },
    {
     "name": "stdout",
     "output_type": "stream",
     "text": [
      "2\n"
     ]
    }
   ],
   "source": [
    "#W3A4\n",
    "import math\n",
    "m, n = map(float, input().split())\n",
    "a = math.floor(m/n)\n",
    "print(a)"
   ]
  },
  {
   "cell_type": "code",
   "execution_count": 9,
   "id": "f4d025a6-013b-470c-816c-700ffc449c97",
   "metadata": {},
   "outputs": [
    {
     "name": "stdin",
     "output_type": "stream",
     "text": [
      " 8 3\n"
     ]
    },
    {
     "name": "stdout",
     "output_type": "stream",
     "text": [
      "3\n"
     ]
    }
   ],
   "source": [
    "#W3A5\n",
    "import math\n",
    "m, n = map(float, input().split())\n",
    "b = math.ceil(m/n)\n",
    "print(b)"
   ]
  },
  {
   "cell_type": "code",
   "execution_count": 15,
   "id": "5efd7a3b-8081-443d-86da-6a74926c8473",
   "metadata": {},
   "outputs": [
    {
     "name": "stdin",
     "output_type": "stream",
     "text": [
      " 6\n"
     ]
    },
    {
     "name": "stdout",
     "output_type": "stream",
     "text": [
      "Đây là số chẵn\n"
     ]
    }
   ],
   "source": [
    "#W3A6\n",
    "x = float(input())\n",
    "if x%2 == 0:\n",
    "    print(\"Đây là số chẵn\")\n",
    "else:\n",
    "    print(\"Đây là số lẻ\")"
   ]
  },
  {
   "cell_type": "code",
   "execution_count": 22,
   "id": "4962f9a3-2788-42ea-bfa2-728efc63c015",
   "metadata": {},
   "outputs": [
    {
     "name": "stdin",
     "output_type": "stream",
     "text": [
      " -6.3 -1652.153\n"
     ]
    },
    {
     "name": "stdout",
     "output_type": "stream",
     "text": [
      "Yes\n"
     ]
    }
   ],
   "source": [
    "#W3A7\n",
    "a, b = map(float, input().split())\n",
    "if a<0 and b<0:\n",
    "    print(\"Yes\")\n",
    "else:\n",
    "    print(\"No\")"
   ]
  },
  {
   "cell_type": "code",
   "execution_count": 24,
   "id": "277f9a77-f44b-4d21-975c-df42759381d9",
   "metadata": {},
   "outputs": [
    {
     "name": "stdin",
     "output_type": "stream",
     "text": [
      " eight nine\n"
     ]
    },
    {
     "name": "stdout",
     "output_type": "stream",
     "text": [
      "Yes\n"
     ]
    }
   ],
   "source": [
    "#W3A8\n",
    "x, y = map(str, input().split())\n",
    "if len(x) > len(y):\n",
    "    print(\"Yes\")\n",
    "else:\n",
    "    print(\"No\")"
   ]
  },
  {
   "cell_type": "code",
   "execution_count": 25,
   "id": "d4afb297-5a49-46a1-b42f-e16ea2f60ddc",
   "metadata": {},
   "outputs": [
    {
     "name": "stdin",
     "output_type": "stream",
     "text": [
      " 3 4 5\n"
     ]
    },
    {
     "name": "stdout",
     "output_type": "stream",
     "text": [
      "Yes\n"
     ]
    }
   ],
   "source": [
    "#W3A9\n",
    "a, b, c = map(int, input().split())\n",
    "if a+b>c and a+c>b and b+c>a:\n",
    "    print(\"Yes\")\n",
    "else:\n",
    "    print(\"No\")"
   ]
  },
  {
   "cell_type": "code",
   "execution_count": 27,
   "id": "f930083e-652c-4c99-a583-e7eb042b7d2c",
   "metadata": {},
   "outputs": [
    {
     "name": "stdin",
     "output_type": "stream",
     "text": [
      " 1 2 3 4\n"
     ]
    },
    {
     "name": "stdout",
     "output_type": "stream",
     "text": [
      "4\n"
     ]
    }
   ],
   "source": [
    "#W3A10\n",
    "a, b, c, d = map(int, input().split())\n",
    "print(max(a,b,c,d))"
   ]
  },
  {
   "cell_type": "code",
   "execution_count": 6,
   "id": "598c6fce-6aaf-479f-bb07-0f4842e1372a",
   "metadata": {},
   "outputs": [
    {
     "name": "stdin",
     "output_type": "stream",
     "text": [
      " 6 6 6\n"
     ]
    },
    {
     "name": "stdout",
     "output_type": "stream",
     "text": [
      "Đây là tam giác đều\n"
     ]
    }
   ],
   "source": [
    "#W3A11\n",
    "a, b, c = map(int, input().split())\n",
    "if a+b>c and a+c>b and b+c>a:\n",
    "    if a == b == c:\n",
    "     print(\"Đây là tam giác đều\")\n",
    "    elif a == b != c or a == c != b or a != b == c:\n",
    "     print(\"Đây là tam giác cân\")\n",
    "    else:\n",
    "     print(\"Đây là tam giác thường\")\n",
    "else:\n",
    "    print(\"Không phải tam giác\")"
   ]
  },
  {
   "cell_type": "code",
   "execution_count": 10,
   "id": "79470185-15f2-4731-9798-86ee712a8a9c",
   "metadata": {},
   "outputs": [
    {
     "name": "stdin",
     "output_type": "stream",
     "text": [
      " 2100\n"
     ]
    },
    {
     "name": "stdout",
     "output_type": "stream",
     "text": [
      "No\n"
     ]
    }
   ],
   "source": [
    "#W3A12\n",
    "n = int(input())\n",
    "if n % 4 == 0:\n",
    "    if n % 400 == 0:\n",
    "        print(\"Yes\")\n",
    "    else:\n",
    "        print(\"No\")\n",
    "else:\n",
    "    print(\"No\")"
   ]
  },
  {
   "cell_type": "code",
   "execution_count": 11,
   "id": "208ddf10-6aa7-40e8-a7ca-64eaa32a9694",
   "metadata": {},
   "outputs": [
    {
     "name": "stdin",
     "output_type": "stream",
     "text": [
      " 1 2\n"
     ]
    },
    {
     "name": "stdout",
     "output_type": "stream",
     "text": [
      "-2.00\n"
     ]
    }
   ],
   "source": [
    "#W3A14\n",
    "a, b = map(float, input().split())\n",
    "if a == 0:\n",
    "    if b == 0:\n",
    "        print(\"Vô số nghiệm\")\n",
    "    else:\n",
    "        print(\"Vô nghiệm\")\n",
    "else:\n",
    "    x = (-b)/a\n",
    "    print(f\"{x:.2f}\")"
   ]
  },
  {
   "cell_type": "code",
   "execution_count": 14,
   "id": "373ed617-cc43-4c78-900c-109866436479",
   "metadata": {},
   "outputs": [
    {
     "name": "stdin",
     "output_type": "stream",
     "text": [
      " 8\n"
     ]
    },
    {
     "name": "stdout",
     "output_type": "stream",
     "text": [
      "Học lực giỏi\n"
     ]
    }
   ],
   "source": [
    "#W3A15\n",
    "n = float(input())\n",
    "if n<0 or n>10:\n",
    "    print(\"Error\")\n",
    "elif n >= 8.0:\n",
    "    print(\"Học lực giỏi\")\n",
    "elif n >= 6.5:\n",
    "    print(\"Học lực khá\")\n",
    "elif n >= 5.0:\n",
    "    print(\"Học lực trung bình\")\n",
    "else:\n",
    "    print(\"Học lực kém\")"
   ]
  },
  {
   "cell_type": "code",
   "execution_count": 21,
   "id": "dcb0a40d-71e5-4113-b328-31ac353e80e4",
   "metadata": {},
   "outputs": [
    {
     "name": "stdin",
     "output_type": "stream",
     "text": [
      " 3.7\n"
     ]
    },
    {
     "name": "stdout",
     "output_type": "stream",
     "text": [
      "3\n",
      "4\n",
      "4\n"
     ]
    }
   ],
   "source": [
    "#W3A16\n",
    "n = float(input())\n",
    "if n>=0:\n",
    "    A = int(n)\n",
    "else:\n",
    "    A = int(n) - 1\n",
    "if n>=0:\n",
    "    B = int(n) + 1\n",
    "else:\n",
    "    B = int(n)\n",
    "if n>=0:\n",
    "    C = int(n + 0.5)\n",
    "else:\n",
    "    C = int(n - 0.5)\n",
    "print(A)\n",
    "print(B)\n",
    "print(C)"
   ]
  },
  {
   "cell_type": "code",
   "execution_count": 1,
   "id": "124e7847-13c2-4f2a-ae50-305aa2a704a7",
   "metadata": {},
   "outputs": [
    {
     "name": "stdin",
     "output_type": "stream",
     "text": [
      " 1 2 3 4\n"
     ]
    },
    {
     "name": "stdout",
     "output_type": "stream",
     "text": [
      "False\n"
     ]
    }
   ],
   "source": [
    "#W3A17\n",
    "a, b, c, d = map(int, input().split())\n",
    "if d>c>b>a:\n",
    "    if d/c == c/b == b/a:\n",
    "        print(\"True\")\n",
    "    else:\n",
    "        print(\"False\")\n",
    "else:\n",
    "    print(\"False\")\n"
   ]
  }
 ],
 "metadata": {
  "kernelspec": {
   "display_name": "Python [conda env:base] *",
   "language": "python",
   "name": "conda-base-py"
  },
  "language_info": {
   "codemirror_mode": {
    "name": "ipython",
    "version": 3
   },
   "file_extension": ".py",
   "mimetype": "text/x-python",
   "name": "python",
   "nbconvert_exporter": "python",
   "pygments_lexer": "ipython3",
   "version": "3.13.5"
  }
 },
 "nbformat": 4,
 "nbformat_minor": 5
}
